{
 "cells": [
  {
   "cell_type": "code",
   "execution_count": 26,
   "metadata": {},
   "outputs": [
    {
     "data": {
      "text/plain": [
       "data = 102"
      ]
     },
     "execution_count": 26,
     "metadata": {},
     "output_type": "execute_result"
    }
   ],
   "source": [
    "#i will be coding  a  graph based rep of the basic addition ops usinmg classes\n",
    "class vals:\n",
    "\n",
    "    def __init__(self,data, _children= (), _ops=' '):\n",
    "\n",
    "        self.data = data\n",
    "        #this uses a set to keep the vals unique\n",
    "        self._prev = set(_children)\n",
    "        #this is the opration the generated the self\n",
    "        self._ops = _ops\n",
    "\n",
    "    def __repr__(self):\n",
    "        #the vals are printed\n",
    "        return  f\"data = {self.data}\"\n",
    "\n",
    "    #now these also log the children which made them\n",
    "    def __add__(self,other):\n",
    "        d  = vals(self.data + other.data,(self,other),'+')\n",
    "        return d\n",
    "\n",
    "    def __mul__(self,other):\n",
    "        d  = vals(self.data * other.data,(self,other),'*')\n",
    "        return d\n",
    "\n",
    "a = vals(10)\n",
    "b = vals(10)\n",
    "d = vals(2)\n",
    "# c = a+b\n",
    "c = a*b + d\n",
    "c"
   ]
  },
  {
   "cell_type": "code",
   "execution_count": 27,
   "metadata": {},
   "outputs": [],
   "source": [
    "#so that we now can code the graph \n",
    "from graphviz import Digraph"
   ]
  },
  {
   "cell_type": "code",
   "execution_count": 28,
   "metadata": {},
   "outputs": [],
   "source": [
    "def trace(root):\n",
    "    #we will use a simple DFS slgorith \n",
    "    #these are the 2 empty sets which will hold the vals\n",
    "    nodes,edges = set(),set()\n",
    "\n",
    "    def recc(v):\n",
    "        #if v is not in the set we will add it\n",
    "        if v not in nodes:\n",
    "            nodes.add(v)\n",
    "            for val in v._prev:\n",
    "                edges.add(val)\n",
    "                #now recursive call back the same func for this perticular node\n",
    "                recc(val)\n",
    "        #call the function for the root\n",
    "    recc(root)\n",
    "\n",
    "    return nodes,edges"
   ]
  },
  {
   "cell_type": "code",
   "execution_count": 29,
   "metadata": {},
   "outputs": [],
   "source": [
    "#the motivation is to draw the graph from the root\n",
    "def draw_dot(root):\n",
    "\n",
    "    dot = Digraph(format='svg' , graph_attr = {'rankdir':'LR'})\n",
    "\n",
    "    #populate the nodes and edges into the sets\n",
    "    nodes,edges = trace(root)\n",
    "\n",
    "    for n in nodes:\n",
    "\n",
    "        #this is the name\n",
    "        uid = str(id(n))\n",
    "        #takes name label and atts\n",
    "        dot.node(name= uid, label= {n.data}, shape='record')\n",
    "\n",
    "        #if it is an ops gen then we need to create a dummy node for say fake node\n",
    "        if n._ops:\n",
    "            dot.node(name= uid+n._ops, label= {n._ops}, shape= 'record' )\n",
    "            dot.edge(uid+n._ops, uid)\n",
    "\n",
    "    for n1, n2 in edges:\n",
    "\n",
    "        dot.edge( str(id(n1)) , str(id(n2)) + n2._ops  )\n",
    "\n",
    "    return dot"
   ]
  },
  {
   "cell_type": "code",
   "execution_count": 30,
   "metadata": {},
   "outputs": [
    {
     "ename": "TypeError",
     "evalue": "must be real number, not set",
     "output_type": "error",
     "traceback": [
      "\u001b[1;31m---------------------------------------------------------------------------\u001b[0m",
      "\u001b[1;31mTypeError\u001b[0m                                 Traceback (most recent call last)",
      "Cell \u001b[1;32mIn[30], line 1\u001b[0m\n\u001b[1;32m----> 1\u001b[0m \u001b[43mdraw_dot\u001b[49m\u001b[43m(\u001b[49m\u001b[43mc\u001b[49m\u001b[43m)\u001b[49m\n",
      "Cell \u001b[1;32mIn[29], line 14\u001b[0m, in \u001b[0;36mdraw_dot\u001b[1;34m(root)\u001b[0m\n\u001b[0;32m     12\u001b[0m uid \u001b[38;5;241m=\u001b[39m \u001b[38;5;28mstr\u001b[39m(\u001b[38;5;28mid\u001b[39m(n))\n\u001b[0;32m     13\u001b[0m \u001b[38;5;66;03m#takes name label and atts\u001b[39;00m\n\u001b[1;32m---> 14\u001b[0m dot\u001b[38;5;241m.\u001b[39mnode(name\u001b[38;5;241m=\u001b[39m uid, label\u001b[38;5;241m=\u001b[39m \u001b[38;5;124;43m\"\u001b[39;49m\u001b[38;5;124;43m{\u001b[39;49m\u001b[38;5;124;43mdata \u001b[39;49m\u001b[38;5;132;43;01m%.4f\u001b[39;49;00m\u001b[38;5;124;43m}\u001b[39;49m\u001b[38;5;124;43m\"\u001b[39;49m\u001b[38;5;241;43m%\u001b[39;49m\u001b[43m{\u001b[49m\u001b[43mn\u001b[49m\u001b[38;5;241;43m.\u001b[39;49m\u001b[43mdata\u001b[49m\u001b[43m}\u001b[49m, shape\u001b[38;5;241m=\u001b[39m\u001b[38;5;124m'\u001b[39m\u001b[38;5;124mrecord\u001b[39m\u001b[38;5;124m'\u001b[39m)\n\u001b[0;32m     16\u001b[0m \u001b[38;5;66;03m#if it is an ops gen then we need to create a dummy node for say fake node\u001b[39;00m\n\u001b[0;32m     17\u001b[0m \u001b[38;5;28;01mif\u001b[39;00m n\u001b[38;5;241m.\u001b[39m_ops:\n",
      "\u001b[1;31mTypeError\u001b[0m: must be real number, not set"
     ]
    }
   ],
   "source": [
    "draw_dot(c)"
   ]
  },
  {
   "cell_type": "code",
   "execution_count": null,
   "metadata": {},
   "outputs": [],
   "source": []
  }
 ],
 "metadata": {
  "kernelspec": {
   "display_name": "Python 3",
   "language": "python",
   "name": "python3"
  },
  "language_info": {
   "codemirror_mode": {
    "name": "ipython",
    "version": 3
   },
   "file_extension": ".py",
   "mimetype": "text/x-python",
   "name": "python",
   "nbconvert_exporter": "python",
   "pygments_lexer": "ipython3",
   "version": "3.11.8"
  }
 },
 "nbformat": 4,
 "nbformat_minor": 2
}
