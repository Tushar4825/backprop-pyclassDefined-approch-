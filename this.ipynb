{
 "cells": [
  {
   "cell_type": "code",
   "execution_count": 30,
   "metadata": {},
   "outputs": [],
   "source": [
    "import math\n",
    "import numpy as np \n",
    "import matplotlib.pyplot as plt\n",
    "%matplotlib inline"
   ]
  },
  {
   "cell_type": "code",
   "execution_count": 31,
   "metadata": {},
   "outputs": [],
   "source": [
    "def f(x):\n",
    "    return 3*x**2 - 4*x + 5 "
   ]
  },
  {
   "cell_type": "code",
   "execution_count": 32,
   "metadata": {},
   "outputs": [
    {
     "data": {
      "text/plain": [
       "20.0"
      ]
     },
     "execution_count": 32,
     "metadata": {},
     "output_type": "execute_result"
    }
   ],
   "source": [
    "f(3.0)"
   ]
  },
  {
   "cell_type": "code",
   "execution_count": 33,
   "metadata": {},
   "outputs": [
    {
     "name": "stdout",
     "output_type": "stream",
     "text": [
      "[-3.   -2.75 -2.5  -2.25 -2.   -1.75 -1.5  -1.25 -1.   -0.75 -0.5  -0.25\n",
      "  0.    0.25  0.5   0.75  1.    1.25  1.5   1.75  2.    2.25  2.5   2.75]\n"
     ]
    }
   ],
   "source": [
    "arr = np.arange(-3,3,0.25)\n",
    "print(arr)"
   ]
  },
  {
   "cell_type": "code",
   "execution_count": 34,
   "metadata": {},
   "outputs": [
    {
     "name": "stdout",
     "output_type": "stream",
     "text": [
      "[44.     38.6875 33.75   29.1875 25.     21.1875 17.75   14.6875 12.\n",
      "  9.6875  7.75    6.1875  5.      4.1875  3.75    3.6875  4.      4.6875\n",
      "  5.75    7.1875  9.     11.1875 13.75   16.6875]\n"
     ]
    }
   ],
   "source": [
    "\n",
    "y = f(arr)\n",
    "print(y)"
   ]
  },
  {
   "cell_type": "code",
   "execution_count": 35,
   "metadata": {},
   "outputs": [
    {
     "data": {
      "text/plain": [
       "[<matplotlib.lines.Line2D at 0x17268f6a290>]"
      ]
     },
     "execution_count": 35,
     "metadata": {},
     "output_type": "execute_result"
    },
    {
     "data": {
      "image/png": "[encoded data removed]",
      "text/plain": [
       "<Figure size 640x480 with 1 Axes>"
      ]
     },
     "metadata": {},
     "output_type": "display_data"
    }
   ],
   "source": [
    "#as the params in the function were the vals in array \n",
    "#so we can map them to give a plot \n",
    "plt.plot(arr,y)"
   ]
  },
  {
   "cell_type": "code",
   "execution_count": 36,
   "metadata": {},
   "outputs": [
    {
     "data": {
      "text/plain": [
       "14.000001158365194"
      ]
     },
     "execution_count": 36,
     "metadata": {},
     "output_type": "execute_result"
    }
   ],
   "source": [
    "h = 0.0000000001\n",
    "x = 3.0\n",
    "(f(x + h) - f( x ))/h"
   ]
  },
  {
   "cell_type": "code",
   "execution_count": 37,
   "metadata": {},
   "outputs": [
    {
     "name": "stdout",
     "output_type": "stream",
     "text": [
      "d1 4.0\n",
      "d2 4.0002\n",
      "slope 2.0000000000042206\n"
     ]
    }
   ],
   "source": [
    "def g(a,b,c):\n",
    "    return a*b+c\n",
    "\n",
    "a,b,c = 2.0,-3.0,10.0\n",
    "\n",
    "d1 = g(a,b,c)\n",
    "h = 0.0001\n",
    "d2 = g(a,b+h,c)\n",
    "slope = (d2-d1)/h\n",
    "\n",
    "\n",
    "print('d1',d1)\n",
    "print('d2',d2)\n",
    "print('slope',slope)"
   ]
  },
  {
   "cell_type": "code",
   "execution_count": 1,
   "metadata": {},
   "outputs": [],
   "source": [
    "class Value:\n",
    "    def __init__(self,data,_childern=(),_op='',_label=''): \n",
    "        #here childern is  an empty tuple\n",
    "        #op is a string that will store which operations was carried out\n",
    "        self.data = data\n",
    "        #we will maintain it in a set so that the vals in the tuple are unique\n",
    "        self._prev = set(_childern)\n",
    "        #this will also be returned from arathamitic function calls\n",
    "        self._op = _op\n",
    "        #this will display which ever the node it was in the graph\n",
    "        self._label =_label \n",
    "\n",
    "    def __repr__ (self):\n",
    "        out =  f\"Value (data={self.data})\"\n",
    "        return out\n",
    "    \n",
    "    def __add__(self,other):\n",
    "        out =  Value( self.data + other.data , (self,other) , '+')\n",
    "        return out\n",
    "     \n",
    "    def __mul__(self,other): \n",
    "        out =  Value( self.data * other.data , (self,other) , '*' )\n",
    "        return out\n",
    "    \n",
    "# a = Value(2.0)  \n",
    "# a._label = 'a'\n",
    "\n",
    "# b = Value(-3.0)\n",
    "# b._label = 'b'\n",
    "\n",
    "# e = a*b\n",
    "# e._label = 'e'\n",
    "\n",
    "# c = Value(10.0) \n",
    "# c._label = 'c'\n",
    "\n",
    "# d = e+c #internally this looks like :: a.__add__(b) which is returned as a class in itself\n",
    "# d._label = 'd'\n",
    "# d\n",
    "\n",
    "\n",
    "a = Value(2.0, _label='a')\n",
    "b = Value(-3.0, _label='b')\n",
    "c = Value(10.0, _label='c')\n",
    "e = a*b ;e._label = 'e'\n",
    "d = e+c ;d._label = 'd'\n",
    "f = Value(-2.0, _label='f')\n",
    "L = d*f ;L._label = 'L'"
   ]
  },
  {
   "cell_type": "code",
   "execution_count": 2,
   "metadata": {},
   "outputs": [
    {
     "data": {
      "text/plain": [
       "{Value (data=-6.0), Value (data=10.0)}"
      ]
     },
     "execution_count": 2,
     "metadata": {},
     "output_type": "execute_result"
    }
   ],
   "source": [
    "d._prev"
   ]
  },
  {
   "cell_type": "code",
   "execution_count": 3,
   "metadata": {},
   "outputs": [
    {
     "data": {
      "text/plain": [
       "'+'"
      ]
     },
     "execution_count": 3,
     "metadata": {},
     "output_type": "execute_result"
    }
   ],
   "source": [
    "d._op"
   ]
  },
  {
   "cell_type": "code",
   "execution_count": 6,
   "metadata": {},
   "outputs": [],
   "source": [
    "#this is a code scrapped from a repo which uses graphviz api to build graphs\n",
    "\n",
    "from graphviz import Digraph\n",
    "\n",
    "def trace(root):\n",
    "\n",
    "  nodes,edges = set(),set()\n",
    "  def build(v):\n",
    "    if v not in nodes:\n",
    "      nodes.add(v)\n",
    "      for child in v._prev:\n",
    "        edges.add((child, v))\n",
    "        build(child)\n",
    "\n",
    "  build(root)\n",
    "  return nodes, edges    \n",
    "\n",
    "def draw_dot(root):\n",
    "  \n",
    "  dot = Digraph(format='svg', graph_attr={'rankdir': 'LR'}) # LR = left to right\n",
    "  \n",
    "  nodes, edges = trace(root)\n",
    "  for n in nodes:\n",
    "    uid = str(id(n))\n",
    "    # for any value in the graph, create a rectangular ('record') node for it\n",
    "    dot.node(name = uid, label = \"{ data %.4f}\" % ( n.data ), shape='record')\n",
    "    if n._op:\n",
    "      # if this value is a result of some operation, create an op node for it\n",
    "      dot.node(name = uid + n._op, label = n._op)\n",
    "      # and connect this node to it\n",
    "      dot.edge(uid + n._op, uid)\n",
    "\n",
    "  for n1, n2 in edges:\n",
    "    # connect n1 to the op node of n2\n",
    "    dot.edge(str(id(n1)), str(id(n2)) + n2._op)\n",
    "\n",
    "  return dot"
   ]
  },
  {
   "cell_type": "code",
   "execution_count": 7,
   "metadata": {},
   "outputs": [
    {
     "data": {
      "image/svg+xml": [
       "<?xml version=\"1.0\" encoding=\"UTF-8\" standalone=\"no\"?>\n",
       "<!DOCTYPE svg PUBLIC \"-//W3C//DTD SVG 1.1//EN\"\n",
       " \"http://www.w3.org/Graphics/SVG/1.1/DTD/svg11.dtd\">\n",
       "<!-- Generated by graphviz version 11.0.0 (20240428.1522)\n",
       " -->\n",
       "<!-- Pages: 1 -->\n",
       "<svg width=\"513pt\" height=\"127pt\"\n",
       " viewBox=\"0.00 0.00 512.75 127.00\" xmlns=\"http://www.w3.org/2000/svg\" xmlns:xlink=\"http://www.w3.org/1999/xlink\">\n",
       "<g id=\"graph0\" class=\"graph\" transform=\"scale(1 1) rotate(0) translate(4 123)\">\n",
       "<polygon fill=\"white\" stroke=\"none\" points=\"-4,4 -4,-123 508.75,-123 508.75,4 -4,4\"/>\n",
       "<!-- 2528079125520 -->\n",
       "<g id=\"node1\" class=\"node\">\n",
       "<title>2528079125520</title>\n",
       "<polygon fill=\"none\" stroke=\"black\" points=\"211,-82.5 211,-118.5 298.25,-118.5 298.25,-82.5 211,-82.5\"/>\n",
       "<text text-anchor=\"middle\" x=\"254.62\" y=\"-95.2\" font-family=\"Times New Roman,serif\" font-size=\"14.00\">data 10.0000</text>\n",
       "</g>\n",
       "<!-- 2528079128720+ -->\n",
       "<g id=\"node4\" class=\"node\">\n",
       "<title>2528079128720+</title>\n",
       "<ellipse fill=\"none\" stroke=\"black\" cx=\"361.25\" cy=\"-72.5\" rx=\"27\" ry=\"18\"/>\n",
       "<text text-anchor=\"middle\" x=\"361.25\" y=\"-67.08\" font-family=\"Times New Roman,serif\" font-size=\"14.00\">+</text>\n",
       "</g>\n",
       "<!-- 2528079125520&#45;&gt;2528079128720+ -->\n",
       "<g id=\"edge3\" class=\"edge\">\n",
       "<title>2528079125520&#45;&gt;2528079128720+</title>\n",
       "<path fill=\"none\" stroke=\"black\" d=\"M298.48,-89.03C307.17,-86.7 316.22,-84.28 324.63,-82.03\"/>\n",
       "<polygon fill=\"black\" stroke=\"black\" points=\"325.39,-85.45 334.14,-79.49 323.58,-78.69 325.39,-85.45\"/>\n",
       "</g>\n",
       "<!-- 2528079114768 -->\n",
       "<g id=\"node2\" class=\"node\">\n",
       "<title>2528079114768</title>\n",
       "<polygon fill=\"none\" stroke=\"black\" points=\"0,-55.5 0,-91.5 85,-91.5 85,-55.5 0,-55.5\"/>\n",
       "<text text-anchor=\"middle\" x=\"42.5\" y=\"-68.2\" font-family=\"Times New Roman,serif\" font-size=\"14.00\">data &#45;3.0000</text>\n",
       "</g>\n",
       "<!-- 2528079126416* -->\n",
       "<g id=\"node6\" class=\"node\">\n",
       "<title>2528079126416*</title>\n",
       "<ellipse fill=\"none\" stroke=\"black\" cx=\"148\" cy=\"-45.5\" rx=\"27\" ry=\"18\"/>\n",
       "<text text-anchor=\"middle\" x=\"148\" y=\"-40.08\" font-family=\"Times New Roman,serif\" font-size=\"14.00\">*</text>\n",
       "</g>\n",
       "<!-- 2528079114768&#45;&gt;2528079126416* -->\n",
       "<g id=\"edge6\" class=\"edge\">\n",
       "<title>2528079114768&#45;&gt;2528079126416*</title>\n",
       "<path fill=\"none\" stroke=\"black\" d=\"M85.3,-62.19C94.02,-59.83 103.12,-57.37 111.58,-55.08\"/>\n",
       "<polygon fill=\"black\" stroke=\"black\" points=\"112.42,-58.48 121.16,-52.49 110.59,-51.72 112.42,-58.48\"/>\n",
       "</g>\n",
       "<!-- 2528079128720 -->\n",
       "<g id=\"node3\" class=\"node\">\n",
       "<title>2528079128720</title>\n",
       "<polygon fill=\"none\" stroke=\"black\" points=\"424.25,-54.5 424.25,-90.5 504.75,-90.5 504.75,-54.5 424.25,-54.5\"/>\n",
       "<text text-anchor=\"middle\" x=\"464.5\" y=\"-67.2\" font-family=\"Times New Roman,serif\" font-size=\"14.00\">data 4.0000</text>\n",
       "</g>\n",
       "<!-- 2528079128720+&#45;&gt;2528079128720 -->\n",
       "<g id=\"edge1\" class=\"edge\">\n",
       "<title>2528079128720+&#45;&gt;2528079128720</title>\n",
       "<path fill=\"none\" stroke=\"black\" d=\"M388.59,-72.5C396,-72.5 404.32,-72.5 412.65,-72.5\"/>\n",
       "<polygon fill=\"black\" stroke=\"black\" points=\"412.42,-76 422.42,-72.5 412.42,-69 412.42,-76\"/>\n",
       "</g>\n",
       "<!-- 2528079126416 -->\n",
       "<g id=\"node5\" class=\"node\">\n",
       "<title>2528079126416</title>\n",
       "<polygon fill=\"none\" stroke=\"black\" points=\"212.12,-27.5 212.12,-63.5 297.12,-63.5 297.12,-27.5 212.12,-27.5\"/>\n",
       "<text text-anchor=\"middle\" x=\"254.62\" y=\"-40.2\" font-family=\"Times New Roman,serif\" font-size=\"14.00\">data &#45;6.0000</text>\n",
       "</g>\n",
       "<!-- 2528079126416&#45;&gt;2528079128720+ -->\n",
       "<g id=\"edge5\" class=\"edge\">\n",
       "<title>2528079126416&#45;&gt;2528079128720+</title>\n",
       "<path fill=\"none\" stroke=\"black\" d=\"M297.58,-56.33C306.51,-58.63 315.86,-61.05 324.54,-63.28\"/>\n",
       "<polygon fill=\"black\" stroke=\"black\" points=\"323.43,-66.61 333.99,-65.72 325.18,-59.84 323.43,-66.61\"/>\n",
       "</g>\n",
       "<!-- 2528079126416*&#45;&gt;2528079126416 -->\n",
       "<g id=\"edge2\" class=\"edge\">\n",
       "<title>2528079126416*&#45;&gt;2528079126416</title>\n",
       "<path fill=\"none\" stroke=\"black\" d=\"M175.4,-45.5C183.06,-45.5 191.71,-45.5 200.4,-45.5\"/>\n",
       "<polygon fill=\"black\" stroke=\"black\" points=\"200.24,-49 210.24,-45.5 200.24,-42 200.24,-49\"/>\n",
       "</g>\n",
       "<!-- 2528079127952 -->\n",
       "<g id=\"node7\" class=\"node\">\n",
       "<title>2528079127952</title>\n",
       "<polygon fill=\"none\" stroke=\"black\" points=\"2.25,-0.5 2.25,-36.5 82.75,-36.5 82.75,-0.5 2.25,-0.5\"/>\n",
       "<text text-anchor=\"middle\" x=\"42.5\" y=\"-13.2\" font-family=\"Times New Roman,serif\" font-size=\"14.00\">data 2.0000</text>\n",
       "</g>\n",
       "<!-- 2528079127952&#45;&gt;2528079126416* -->\n",
       "<g id=\"edge4\" class=\"edge\">\n",
       "<title>2528079127952&#45;&gt;2528079126416*</title>\n",
       "<path fill=\"none\" stroke=\"black\" d=\"M83.22,-28.86C92.52,-31.29 102.37,-33.86 111.47,-36.23\"/>\n",
       "<polygon fill=\"black\" stroke=\"black\" points=\"110.48,-39.59 121.04,-38.73 112.25,-32.82 110.48,-39.59\"/>\n",
       "</g>\n",
       "</g>\n",
       "</svg>\n"
      ],
      "text/plain": [
       "<graphviz.graphs.Digraph at 0x24c9d472590>"
      ]
     },
     "execution_count": 7,
     "metadata": {},
     "output_type": "execute_result"
    }
   ],
   "source": [
    "draw_dot(d)"
   ]
  },
  {
   "cell_type": "code",
   "execution_count": null,
   "metadata": {},
   "outputs": [],
   "source": []
  },
  {
   "cell_type": "code",
   "execution_count": null,
   "metadata": {},
   "outputs": [],
   "source": []
  }
 ],
 "metadata": {
  "kernelspec": {
   "display_name": "Python 3",
   "language": "python",
   "name": "python3"
  },
  "language_info": {
   "codemirror_mode": {
    "name": "ipython",
    "version": 3
   },
   "file_extension": ".py",
   "mimetype": "text/x-python",
   "name": "python",
   "nbconvert_exporter": "python",
   "pygments_lexer": "ipython3",
   "version": "3.11.8"
  }
 },
 "nbformat": 4,
 "nbformat_minor": 2
}
